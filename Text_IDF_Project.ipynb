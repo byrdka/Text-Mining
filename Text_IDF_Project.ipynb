{
  "nbformat": 4,
  "nbformat_minor": 0,
  "metadata": {
    "colab": {
      "name": "Text IDF Project.ipynb",
      "provenance": [],
      "collapsed_sections": [],
      "authorship_tag": "ABX9TyM4Ey4aS4RffXZVxqvaAkka",
      "include_colab_link": true
    },
    "kernelspec": {
      "name": "python3",
      "display_name": "Python 3"
    },
    "language_info": {
      "name": "python"
    }
  },
  "cells": [
    {
      "cell_type": "markdown",
      "metadata": {
        "id": "view-in-github",
        "colab_type": "text"
      },
      "source": [
        "<a href=\"https://colab.research.google.com/github/byrdka/Text-Mining/blob/main/Text_IDF_Project.ipynb\" target=\"_parent\"><img src=\"https://colab.research.google.com/assets/colab-badge.svg\" alt=\"Open In Colab\"/></a>"
      ]
    },
    {
      "cell_type": "markdown",
      "metadata": {
        "id": "49AbUgfjZ7k0"
      },
      "source": [
        "TBANLT 570 - Project 1 by Kevin Byrd"
      ]
    },
    {
      "cell_type": "code",
      "metadata": {
        "id": "uyiMMbcxZiEK"
      },
      "source": [
        "#import libraries\n",
        "import numpy as np #used to quickly perform mathematical calculations on vectors\n",
        "import re #regular expressions; used to clean the text data\n",
        "import sqlite3 #used to interact with the database\n",
        "import pandas as pd #allows us to work with data using Pandas dataframes\n",
        "from collections import Counter #used to quickly count letters and words"
      ],
      "execution_count": 1,
      "outputs": []
    },
    {
      "cell_type": "code",
      "metadata": {
        "colab": {
          "base_uri": "https://localhost:8080/",
          "height": 129
        },
        "id": "cAnHQt_cmLEx",
        "outputId": "1800f28b-d0e3-4bde-bb9c-57649a093c6b"
      },
      "source": [
        "\n",
        "git init\n",
        "git add README.md\n",
        "git commit -m \"first commit\"\n",
        "git branch -M main\n",
        "git remote add origin https://github.com/byrdka/Text-Mining.git\n",
        "git push -u origin main"
      ],
      "execution_count": 40,
      "outputs": [
        {
          "output_type": "error",
          "ename": "SyntaxError",
          "evalue": "ignored",
          "traceback": [
            "\u001b[0;36m  File \u001b[0;32m\"<ipython-input-40-a2193494f579>\"\u001b[0;36m, line \u001b[0;32m2\u001b[0m\n\u001b[0;31m    git init\u001b[0m\n\u001b[0m           ^\u001b[0m\n\u001b[0;31mSyntaxError\u001b[0m\u001b[0;31m:\u001b[0m invalid syntax\n"
          ]
        }
      ]
    },
    {
      "cell_type": "markdown",
      "metadata": {
        "id": "C2WrqGaZaJiF"
      },
      "source": [
        "Load Data\n",
        "\n",
        "Load Project 01 - Databse.db"
      ]
    },
    {
      "cell_type": "code",
      "metadata": {
        "id": "n4Le536JaFOQ"
      },
      "source": [
        "#open a connection to the database\n",
        "conn = sqlite3.connect('Project 01 - Database.db')\n",
        "\n",
        "#load all documents into a Pandas dataframe named 'df', and use the document_id column as the index\n",
        "sql = 'SELECT * FROM Article'\n",
        "df = pd.read_sql_query(sql, conn)\n",
        "\n",
        "#close database connection\n",
        "conn.close()"
      ],
      "execution_count": 13,
      "outputs": []
    },
    {
      "cell_type": "markdown",
      "metadata": {
        "id": "zbvT03zxbOLG"
      },
      "source": [
        "View Database: Contains 3 columns id, category, raw_text. There is 2225 rows."
      ]
    },
    {
      "cell_type": "code",
      "metadata": {
        "colab": {
          "base_uri": "https://localhost:8080/",
          "height": 412
        },
        "id": "p4vF9VOOa1Vy",
        "outputId": "95caf7a3-ef5b-4ca3-a2d4-9242215ae967"
      },
      "source": [
        "df"
      ],
      "execution_count": 15,
      "outputs": [
        {
          "output_type": "execute_result",
          "data": {
            "text/html": [
              "<div>\n",
              "<style scoped>\n",
              "    .dataframe tbody tr th:only-of-type {\n",
              "        vertical-align: middle;\n",
              "    }\n",
              "\n",
              "    .dataframe tbody tr th {\n",
              "        vertical-align: top;\n",
              "    }\n",
              "\n",
              "    .dataframe thead th {\n",
              "        text-align: right;\n",
              "    }\n",
              "</style>\n",
              "<table border=\"1\" class=\"dataframe\">\n",
              "  <thead>\n",
              "    <tr style=\"text-align: right;\">\n",
              "      <th></th>\n",
              "      <th>id</th>\n",
              "      <th>category</th>\n",
              "      <th>raw_text</th>\n",
              "    </tr>\n",
              "  </thead>\n",
              "  <tbody>\n",
              "    <tr>\n",
              "      <th>0</th>\n",
              "      <td>6347</td>\n",
              "      <td>Politics</td>\n",
              "      <td>Hiding women away in the home hidden behind ve...</td>\n",
              "    </tr>\n",
              "    <tr>\n",
              "      <th>1</th>\n",
              "      <td>13840</td>\n",
              "      <td>Sports</td>\n",
              "      <td>Celtic brushed aside Clyde to secure their pla...</td>\n",
              "    </tr>\n",
              "    <tr>\n",
              "      <th>2</th>\n",
              "      <td>14775</td>\n",
              "      <td>Unknown</td>\n",
              "      <td>If you have finished Doom 3, Half Life 2 and H...</td>\n",
              "    </tr>\n",
              "    <tr>\n",
              "      <th>3</th>\n",
              "      <td>16641</td>\n",
              "      <td>Unknown</td>\n",
              "      <td>Controversial new UK casinos will be banned fr...</td>\n",
              "    </tr>\n",
              "    <tr>\n",
              "      <th>4</th>\n",
              "      <td>17511</td>\n",
              "      <td>Unknown</td>\n",
              "      <td>Justine Henin-Hardenne lost to Elena Dementiev...</td>\n",
              "    </tr>\n",
              "    <tr>\n",
              "      <th>...</th>\n",
              "      <td>...</td>\n",
              "      <td>...</td>\n",
              "      <td>...</td>\n",
              "    </tr>\n",
              "    <tr>\n",
              "      <th>2220</th>\n",
              "      <td>9981403</td>\n",
              "      <td>Technology</td>\n",
              "      <td>The US Federal Bureau of Investigation is warn...</td>\n",
              "    </tr>\n",
              "    <tr>\n",
              "      <th>2221</th>\n",
              "      <td>9983844</td>\n",
              "      <td>Sports</td>\n",
              "      <td>Scrum-half Matt Dawson is an injury doubt for ...</td>\n",
              "    </tr>\n",
              "    <tr>\n",
              "      <th>2222</th>\n",
              "      <td>9986243</td>\n",
              "      <td>Unknown</td>\n",
              "      <td>The US economy has grown more than expected, e...</td>\n",
              "    </tr>\n",
              "    <tr>\n",
              "      <th>2223</th>\n",
              "      <td>9987006</td>\n",
              "      <td>Unknown</td>\n",
              "      <td>Three years after a gruelling economic crisis,...</td>\n",
              "    </tr>\n",
              "    <tr>\n",
              "      <th>2224</th>\n",
              "      <td>9988130</td>\n",
              "      <td>Technology</td>\n",
              "      <td>BBC Sport unveils its new analysis tool Piero ...</td>\n",
              "    </tr>\n",
              "  </tbody>\n",
              "</table>\n",
              "<p>2225 rows × 3 columns</p>\n",
              "</div>"
            ],
            "text/plain": [
              "           id    category                                           raw_text\n",
              "0        6347    Politics  Hiding women away in the home hidden behind ve...\n",
              "1       13840      Sports  Celtic brushed aside Clyde to secure their pla...\n",
              "2       14775     Unknown  If you have finished Doom 3, Half Life 2 and H...\n",
              "3       16641     Unknown  Controversial new UK casinos will be banned fr...\n",
              "4       17511     Unknown  Justine Henin-Hardenne lost to Elena Dementiev...\n",
              "...       ...         ...                                                ...\n",
              "2220  9981403  Technology  The US Federal Bureau of Investigation is warn...\n",
              "2221  9983844      Sports  Scrum-half Matt Dawson is an injury doubt for ...\n",
              "2222  9986243     Unknown  The US economy has grown more than expected, e...\n",
              "2223  9987006     Unknown  Three years after a gruelling economic crisis,...\n",
              "2224  9988130  Technology  BBC Sport unveils its new analysis tool Piero ...\n",
              "\n",
              "[2225 rows x 3 columns]"
            ]
          },
          "metadata": {
            "tags": []
          },
          "execution_count": 15
        }
      ]
    },
    {
      "cell_type": "code",
      "metadata": {
        "id": "BHZ9WhD1beTN"
      },
      "source": [
        "#open a connection to the database\n",
        "conn = sqlite3.connect('Project 01 - Database.db')\n",
        "\n",
        "#load all documents into a Pandas dataframe named 'df', and use the document_id column as the index\n",
        "sql = \"SELECT * FROM Article WHERE category = 'Entertainment'\"\n",
        "df1 = pd.read_sql_query(sql, conn)\n",
        "\n",
        "#close database connection\n",
        "conn.close()"
      ],
      "execution_count": 28,
      "outputs": []
    },
    {
      "cell_type": "code",
      "metadata": {
        "colab": {
          "base_uri": "https://localhost:8080/",
          "height": 412
        },
        "id": "Rmwy55Zjcz1n",
        "outputId": "310eb990-07c8-46e7-80c0-a7b79b99f319"
      },
      "source": [
        "df1"
      ],
      "execution_count": 29,
      "outputs": [
        {
          "output_type": "execute_result",
          "data": {
            "text/html": [
              "<div>\n",
              "<style scoped>\n",
              "    .dataframe tbody tr th:only-of-type {\n",
              "        vertical-align: middle;\n",
              "    }\n",
              "\n",
              "    .dataframe tbody tr th {\n",
              "        vertical-align: top;\n",
              "    }\n",
              "\n",
              "    .dataframe thead th {\n",
              "        text-align: right;\n",
              "    }\n",
              "</style>\n",
              "<table border=\"1\" class=\"dataframe\">\n",
              "  <thead>\n",
              "    <tr style=\"text-align: right;\">\n",
              "      <th></th>\n",
              "      <th>id</th>\n",
              "      <th>category</th>\n",
              "      <th>raw_text</th>\n",
              "    </tr>\n",
              "  </thead>\n",
              "  <tbody>\n",
              "    <tr>\n",
              "      <th>0</th>\n",
              "      <td>34150</td>\n",
              "      <td>Entertainment</td>\n",
              "      <td>A saxophone belonging to legendary jazz musici...</td>\n",
              "    </tr>\n",
              "    <tr>\n",
              "      <th>1</th>\n",
              "      <td>71079</td>\n",
              "      <td>Entertainment</td>\n",
              "      <td>This year's clutch of Oscar nominees have been...</td>\n",
              "    </tr>\n",
              "    <tr>\n",
              "      <th>2</th>\n",
              "      <td>81897</td>\n",
              "      <td>Entertainment</td>\n",
              "      <td>Ocean's Twelve, the crime caper sequel starrin...</td>\n",
              "    </tr>\n",
              "    <tr>\n",
              "      <th>3</th>\n",
              "      <td>106635</td>\n",
              "      <td>Entertainment</td>\n",
              "      <td>The late US legend Elvis Presley is likely to ...</td>\n",
              "    </tr>\n",
              "    <tr>\n",
              "      <th>4</th>\n",
              "      <td>157219</td>\n",
              "      <td>Entertainment</td>\n",
              "      <td>Comedian Chris Morris, who created controversi...</td>\n",
              "    </tr>\n",
              "    <tr>\n",
              "      <th>...</th>\n",
              "      <td>...</td>\n",
              "      <td>...</td>\n",
              "      <td>...</td>\n",
              "    </tr>\n",
              "    <tr>\n",
              "      <th>192</th>\n",
              "      <td>9331294</td>\n",
              "      <td>Entertainment</td>\n",
              "      <td>The top names in Scottish music are taking par...</td>\n",
              "    </tr>\n",
              "    <tr>\n",
              "      <th>193</th>\n",
              "      <td>9471681</td>\n",
              "      <td>Entertainment</td>\n",
              "      <td>US film professionals have declared Fahrenheit...</td>\n",
              "    </tr>\n",
              "    <tr>\n",
              "      <th>194</th>\n",
              "      <td>9537397</td>\n",
              "      <td>Entertainment</td>\n",
              "      <td>DJ duo JK and Joel are taking over BBC Radio 1...</td>\n",
              "    </tr>\n",
              "    <tr>\n",
              "      <th>195</th>\n",
              "      <td>9663840</td>\n",
              "      <td>Entertainment</td>\n",
              "      <td>Three of the five nominees in the live-action ...</td>\n",
              "    </tr>\n",
              "    <tr>\n",
              "      <th>196</th>\n",
              "      <td>9694388</td>\n",
              "      <td>Entertainment</td>\n",
              "      <td>British film director Sir Alan Parker has been...</td>\n",
              "    </tr>\n",
              "  </tbody>\n",
              "</table>\n",
              "<p>197 rows × 3 columns</p>\n",
              "</div>"
            ],
            "text/plain": [
              "          id       category                                           raw_text\n",
              "0      34150  Entertainment  A saxophone belonging to legendary jazz musici...\n",
              "1      71079  Entertainment  This year's clutch of Oscar nominees have been...\n",
              "2      81897  Entertainment  Ocean's Twelve, the crime caper sequel starrin...\n",
              "3     106635  Entertainment  The late US legend Elvis Presley is likely to ...\n",
              "4     157219  Entertainment  Comedian Chris Morris, who created controversi...\n",
              "..       ...            ...                                                ...\n",
              "192  9331294  Entertainment  The top names in Scottish music are taking par...\n",
              "193  9471681  Entertainment  US film professionals have declared Fahrenheit...\n",
              "194  9537397  Entertainment  DJ duo JK and Joel are taking over BBC Radio 1...\n",
              "195  9663840  Entertainment  Three of the five nominees in the live-action ...\n",
              "196  9694388  Entertainment  British film director Sir Alan Parker has been...\n",
              "\n",
              "[197 rows x 3 columns]"
            ]
          },
          "metadata": {
            "tags": []
          },
          "execution_count": 29
        }
      ]
    },
    {
      "cell_type": "markdown",
      "metadata": {
        "id": "gYTQEAoqdGcP"
      },
      "source": [
        "Query each category\n",
        "\n",
        "Business = 270 rows\n",
        "\n",
        "*   Business = 270 rows\n",
        "*   Entertainment = 197 rows\n",
        "\n",
        "\n",
        "*   Politics = 239 rows\n",
        "*   Sports = 294 rows\n",
        "\n",
        "*   Technology = 225\n",
        "*   Unknown = 1000 rows\n",
        "\n",
        "There are 1225 records with an assigned category.\n"
      ]
    },
    {
      "cell_type": "code",
      "metadata": {
        "colab": {
          "base_uri": "https://localhost:8080/",
          "height": 121
        },
        "id": "FCfG5ZCifblu",
        "outputId": "517a1c33-f707-4f11-93a1-6d925ab5f472"
      },
      "source": [
        "#define a function that will clean the raw input text in preparation for analysis\n",
        "def clean_text(raw_text):\n",
        "  #convert the raw text to lowercase\n",
        "  text = raw_text.lower()\n",
        "  #remove all numbers from the text using a regular expression\n",
        "  text = re.sub(r'[0-9]', ' ', text)\n",
        "  #remove all underscores from the text\n",
        "  text = re.sub(r'\\_', ' ', text)\n",
        "  #remove anything else in the text that isn't a word character or a space (e.g., punctuation, special symbols, etc.)\n",
        "  text = re.sub(r'[^\\w\\s]', ' ', text)\n",
        "  #remove any excess whitespace\n",
        "  for _ in range(10):\n",
        "    text = text.replace('  ', ' ')\n",
        "  #remove any leading or trailing space characters\n",
        "  text = text.strip()\n",
        "  #return the clean text\n",
        "  return text\n",
        "\n",
        "df['clean_text'] = [clean_text(raw_text) for raw_text in df.raw_text] # Clean the raw_text based on the function created above.\n",
        "\n",
        "df.iloc[0]['clean_text'] # .iloc function enables to select a particular row. This is what returns the clean text."
      ],
      "execution_count": 35,
      "outputs": [
        {
          "output_type": "execute_result",
          "data": {
            "application/vnd.google.colaboratory.intrinsic+json": {
              "type": "string"
            },
            "text/plain": [
              "'celtic brushed aside clyde to secure their place in the scottish cup semi final but only after a nervy and testing first half the home side s craig bryson had a goal chopped off before stan varga headed celtic into the lead alan thompson scored from the penalty spot at the start of the second half after shaun maloney had been fouled stilian petrov slid in a third varga tapped in his second and craig bellamy completed the rout with a fine drive bryn halliwell was the busier keeper early on saving from bellamy chris sutton and juninho clyde had the ball in the net after half an hour through a tremendous strike from bryson but the referee had already blown for a foul by petrov from the resulting free kick darren sheridan curled the ball round the celtic wall only for the post to deny him back at the other end halliwell did well to come off his line and block bellamy s effort to lift the ball over him the keeper misjudged a corner that stephane henchoz headed wide but a similar scenario five minutes before the break led to the opening goal the ball was delivered from the left and halliwell was left floundering as varga glanced the ball into the net maloney replaced the injured sutton at half time and he marked his first competitive appearance after a year out injured by helping his side take a two goal lead just after the break the young striker fired a free kick straight into the clyde wall but as he collected the rebound he was tripped by bryson and thompson converted the penalty sheridan and bellamy were involved in something of a flare up that led to both being booked after the intervention of the assistant referee juninho brought out another good save from halliwell and then petrov saw a tremendous effort come off the top of the bar but petrov and juninho combined brilliantly to allow the bulgarian to make it on the hour mark a quick one two giving him the time and space to steer the ball past halliwell from yards varga got his second goal of the game as celtic drove home their advantage thompson whipped in a corner from the right and the unmarked defender simply tapped the ball over the line from a couple of yards out celtic were utterly dominant by this stage and bellamy opened his scoring account for the club after a fine move involving aiden mcgeady jackie mcnamara and maloney culminated in the welshman hammering the ball into the net halliwell kept the deficit at five by pushing a mcgeady shot wide as the game petered out halliwell mensing bollan balmer potter sheridan burns arbuckle gilhaney gibson bryson jones malone harty morrison wilson mensing sheridan douglas henchoz mcnamara balde varga juninho paulista thompson lennon lambert sutton maloney petrov mcgeady bellamy marshall laursen thompson bellamy varga thompson pen petrov varga bellamy c thomson'"
            ]
          },
          "metadata": {
            "tags": []
          },
          "execution_count": 35
        }
      ]
    },
    {
      "cell_type": "code",
      "metadata": {
        "colab": {
          "base_uri": "https://localhost:8080/"
        },
        "id": "V0KFnRa8jcft",
        "outputId": "4f28700d-9d27-46fd-c25b-5af75d563803"
      },
      "source": [
        "#define a function that will compute the raw letter frequencies for the input texts,\n",
        "#as well as the total number of letters appearing in the input texts\n",
        "def letter_counts(input_texts):\n",
        "  all_text = ' '.join(input_texts) #join all of the input texts into one big string\n",
        "  letter_counts = Counter(all_text.replace(' ', '')) #count all letters in the text (excluding spaces)\n",
        "  #return letter counts (sorted from most common to least common),\n",
        "  #and the total number of letters\n",
        "  return letter_counts.most_common(), sum(letter_counts.values()) \n",
        "\n",
        "df_letter_counts, total_df_letters = letter_counts(df.clean_text)\n",
        "\n",
        "df_letter_counts"
      ],
      "execution_count": 37,
      "outputs": [
        {
          "output_type": "execute_result",
          "data": {
            "text/plain": [
              "[('e', 51069),\n",
              " ('a', 38717),\n",
              " ('t', 36947),\n",
              " ('n', 31543),\n",
              " ('i', 31335),\n",
              " ('o', 30158),\n",
              " ('s', 27316),\n",
              " ('r', 26160),\n",
              " ('h', 22100),\n",
              " ('l', 19547),\n",
              " ('d', 17500),\n",
              " ('c', 11972),\n",
              " ('u', 11397),\n",
              " ('m', 10771),\n",
              " ('f', 9452),\n",
              " ('g', 9391),\n",
              " ('w', 9029),\n",
              " ('p', 8401),\n",
              " ('b', 7644),\n",
              " ('y', 7601),\n",
              " ('v', 4554),\n",
              " ('k', 3982),\n",
              " ('j', 1237),\n",
              " ('x', 658),\n",
              " ('z', 445),\n",
              " ('q', 392)]"
            ]
          },
          "metadata": {
            "tags": []
          },
          "execution_count": 37
        }
      ]
    }
  ]
}